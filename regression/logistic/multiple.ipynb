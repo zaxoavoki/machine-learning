{
 "cells": [
  {
   "cell_type": "markdown",
   "metadata": {},
   "source": [
    "# Multiple Logistic Regression\n",
    "\n",
    "Used literature:\n",
    "\n",
    " - [Plotting the decision boundary](https://towardsdatascience.com/building-a-logistic-regression-in-python-301d27367c24)"
   ]
  },
  {
   "cell_type": "code",
   "execution_count": 1,
   "metadata": {},
   "outputs": [],
   "source": [
    "import random\n",
    "import pandas as pd\n",
    "import numpy as np\n",
    "import matplotlib.pyplot as plt"
   ]
  },
  {
   "cell_type": "markdown",
   "metadata": {},
   "source": [
    "Read file with example data. It's made by my own. Hours for exam preparation per week and Average student's mark as x<sub>1</sub> and x<sub>2</sub> as well."
   ]
  },
  {
   "cell_type": "code",
   "execution_count": 2,
   "metadata": {},
   "outputs": [],
   "source": [
    "def read_data(filename):\n",
    "    return pd.read_csv(filename)"
   ]
  },
  {
   "cell_type": "markdown",
   "metadata": {},
   "source": [
    "Sigmoid function is used in order to map predicted values to probabilities."
   ]
  },
  {
   "cell_type": "code",
   "execution_count": 3,
   "metadata": {},
   "outputs": [],
   "source": [
    "def sigmoid(x):\n",
    "    return 1 / (1 + np.exp(-x))\n",
    "\n",
    "def design_matrix(x):\n",
    "    return np.insert(x, 0, 1, axis=1)\n",
    "\n",
    "def prediction(x, w):\n",
    "    return sigmoid(design_matrix(x) * w.T)"
   ]
  },
  {
   "cell_type": "markdown",
   "metadata": {},
   "source": [
    "Get total error on set."
   ]
  },
  {
   "cell_type": "code",
   "execution_count": 4,
   "metadata": {},
   "outputs": [],
   "source": [
    "def accuracy(x, w, y_train):\n",
    "    return np.sum(abs(np.round(prediction(x_train, w), 0) - y_train)) / y_train.shape[0] * 100"
   ]
  },
  {
   "cell_type": "markdown",
   "metadata": {},
   "source": [
    "Plot model with boundary line."
   ]
  },
  {
   "cell_type": "code",
   "execution_count": 5,
   "metadata": {},
   "outputs": [],
   "source": [
    "def plot_model(x_train, y_train, w):\n",
    "    plt.xlabel('Hours per week')\n",
    "    plt.ylabel('Average mark')\n",
    "    \n",
    "    x = [np.min(x_train[:,0]), np.max(x_train[:,0])]\n",
    "    y = - (w.T[0] + w.T[1] * x) / w.T[2]\n",
    "\n",
    "    plt.plot(x, np.array(y).flatten(), c='red')\n",
    "    plt.scatter(np.array(x_train[:,0]).flatten(), np.array(x_train[:,1]).flatten(), c=np.vectorize({0: 'red', 1: 'blue'}.get)(np.array(y_train).flatten()), marker='x')\n",
    "\n",
    "    plt.ylim(0, np.max(x_train[:,1]))\n",
    "    plt.xlim(0, np.max(x_train[:,0]))\n",
    "    plt.show()"
   ]
  },
  {
   "cell_type": "markdown",
   "metadata": {},
   "source": [
    "Read data and make train set."
   ]
  },
  {
   "cell_type": "code",
   "execution_count": 6,
   "metadata": {},
   "outputs": [],
   "source": [
    "df = read_data('datasets/example_2.csv')\n",
    "\n",
    "x_train = np.mat(df[['Hours per week', 'Average Mark']])\n",
    "y_train = np.mat(df[['Passed']])\n",
    "\n",
    "w = np.mat(np.zeros(x_train.shape[1] + 1))"
   ]
  },
  {
   "cell_type": "markdown",
   "metadata": {},
   "source": [
    "Instead of Mean Squared Error, we use a cost function called Cross-Entropy, also known as Log Loss."
   ]
  },
  {
   "cell_type": "code",
   "execution_count": 7,
   "metadata": {
    "tags": []
   },
   "outputs": [
    {
     "data": {
      "image/png": "[encoded data removed]",
      "text/plain": [
       "<Figure size 432x288 with 1 Axes>"
      ]
     },
     "metadata": {
      "needs_background": "light"
     },
     "output_type": "display_data"
    },
    {
     "name": "stdout",
     "output_type": "stream",
     "text": [
      "Wall time: 1.25 s\n"
     ]
    },
    {
     "data": {
      "text/plain": [
       "'Total accuracy: 35.0%'"
      ]
     },
     "execution_count": 7,
     "metadata": {},
     "output_type": "execute_result"
    }
   ],
   "source": [
    "%%time\n",
    "l = 0.001\n",
    "iterations = range(10000)\n",
    "\n",
    "cost = []\n",
    "for i in iterations:\n",
    "    y = prediction(x_train, w)\n",
    "    \n",
    "    gd = np.dot(design_matrix(x_train).T, y - y_train)\n",
    "    gd /= x_train.shape[0]\n",
    "    gd *= l\n",
    "\n",
    "    w -= gd.T\n",
    "    cost.append(- np.sum( np.multiply(np.log(y), y_train) + np.multiply(np.log(1 - y), (1 - y_train)) ) / x_train.shape[0])\n",
    "\n",
    "plot_model(x_train, y_train, w)\n",
    "\n",
    "f'Total accuracy: {accuracy(x_train, w, y_train)}%'"
   ]
  },
  {
   "cell_type": "markdown",
   "metadata": {},
   "source": [
    "Plot error changing on each iteration"
   ]
  },
  {
   "cell_type": "code",
   "execution_count": 8,
   "metadata": {},
   "outputs": [
    {
     "data": {
      "image/png": "[encoded data removed]",
      "text/plain": [
       "<Figure size 432x288 with 1 Axes>"
      ]
     },
     "metadata": {
      "needs_background": "light"
     },
     "output_type": "display_data"
    }
   ],
   "source": [
    "plt.plot(iterations, cost)\n",
    "plt.show()"
   ]
  },
  {
   "cell_type": "code",
   "execution_count": null,
   "metadata": {},
   "outputs": [],
   "source": []
  }
 ],
 "metadata": {
  "kernelspec": {
   "display_name": "Python 3.7.7 64-bit",
   "language": "python",
   "name": "python37764bit38450ece193449ef8929acd7eff9471c"
  },
  "language_info": {
   "codemirror_mode": {
    "name": "ipython",
    "version": 3
   },
   "file_extension": ".py",
   "mimetype": "text/x-python",
   "name": "python",
   "nbconvert_exporter": "python",
   "pygments_lexer": "ipython3",
   "version": "3.7.7"
  }
 },
 "nbformat": 4,
 "nbformat_minor": 2
}
