{
 "cells": [
  {
   "cell_type": "markdown",
   "metadata": {},
   "source": [
    "# Simple Linear Regression with Gradient Descent\n",
    "\n",
    "Model is a system described with math formulas.\n",
    "\n",
    "Import all dependencies."
   ]
  },
  {
   "cell_type": "code",
   "execution_count": 31,
   "metadata": {
    "tags": []
   },
   "outputs": [],
   "source": [
    "import pandas as pd\n",
    "import numpy as np\n",
    "import matplotlib.pyplot as plt\n",
    "import random"
   ]
  },
  {
   "cell_type": "markdown",
   "metadata": {},
   "source": [
    "Read data function."
   ]
  },
  {
   "cell_type": "code",
   "execution_count": 32,
   "metadata": {
    "tags": []
   },
   "outputs": [],
   "source": [
    "def read_data(filename):\n",
    "    return pd.read_csv(filename, names=['SAT', 'GPA'], header=0).values"
   ]
  },
  {
   "cell_type": "markdown",
   "metadata": {},
   "source": [
    "Draw a graph with (x, y) points from dataset."
   ]
  },
  {
   "cell_type": "code",
   "execution_count": 59,
   "metadata": {
    "tags": []
   },
   "outputs": [],
   "source": [
    "def plot_model():\n",
    "    fx = np.linspace(2.4, 3.8)\n",
    "    fy = fx * k + b\n",
    "    plt.scatter(list(map(lambda x: x[1], train_set)), list(map(lambda x: x[0], train_set)), c='blue', marker='x')\n",
    "    plt.scatter(list(map(lambda x: x[1], test_set)), list(map(lambda x: x[0], test_set)), c='gray', marker='x')\n",
    "    plt.plot(fx, fy, 'r')\n",
    "    plt.show()"
   ]
  },
  {
   "cell_type": "markdown",
   "metadata": {},
   "source": [
    "Linear function (y = kx + b) and total error function."
   ]
  },
  {
   "cell_type": "code",
   "execution_count": 60,
   "metadata": {},
   "outputs": [],
   "source": [
    "def h(x): \n",
    "    return k * x + b\n",
    "\n",
    "def total_error():\n",
    "    return sum([abs(y - h(x)) for (y, x) in test_set]) / len(test_set)"
   ]
  },
  {
   "cell_type": "markdown",
   "metadata": {},
   "source": [
    "Run code below with initial parameters for k and b and learning rate.  \n",
    "We use train set to train our model. And we use test set to test our model for mot accurate predictions."
   ]
  },
  {
   "cell_type": "code",
   "execution_count": 71,
   "metadata": {
    "scrolled": true,
    "tags": []
   },
   "outputs": [
    {
     "name": "stdout",
     "output_type": "stream",
     "text": [
      "k = 197.77870632539396, b = 1183.0234958431374, error = 49.72639365164649\n"
     ]
    },
    {
     "data": {
      "image/png": "[encoded data removed]",
      "text/plain": [
       "<Figure size 432x288 with 1 Axes>"
      ]
     },
     "metadata": {
      "needs_background": "light"
     },
     "output_type": "display_data"
    }
   ],
   "source": [
    "k = 0\n",
    "b = 0\n",
    "l = 0.1\n",
    "\n",
    "# Read data\n",
    "data = read_data('dataset.csv')\n",
    "random.shuffle(data)\n",
    "\n",
    "# Divide data set for two parts by 80% and 20%\n",
    "index = int(len(data) * .8)\n",
    "\n",
    "train_set = data[:index]\n",
    "test_set = data[index:]\n",
    "\n",
    "for i in range(10000):\n",
    "    # Get partial derivatives by parameters k and b\n",
    "    dk = sum([-(y - h(x)) * x for (y, x) in train_set]) / len(train_set)\n",
    "    db = sum([-(y - h(x)) for (y, x) in train_set]) / len(train_set)\n",
    "    \n",
    "    # Update parameters with new values\n",
    "    k = k - l * dk\n",
    "    b = b - l * db\n",
    "\n",
    "print(f'k = {k}, b = {b}, error = {total_error()}')\n",
    "plot_model()"
   ]
  },
  {
   "cell_type": "code",
   "execution_count": null,
   "metadata": {},
   "outputs": [],
   "source": []
  }
 ],
 "metadata": {
  "kernelspec": {
   "display_name": "Python 3.7.7 64-bit",
   "language": "python",
   "name": "python37764bit38450ece193449ef8929acd7eff9471c"
  },
  "language_info": {
   "codemirror_mode": {
    "name": "ipython",
    "version": 3
   },
   "file_extension": ".py",
   "mimetype": "text/x-python",
   "name": "python",
   "nbconvert_exporter": "python",
   "pygments_lexer": "ipython3",
   "version": "3.7.7"
  }
 },
 "nbformat": 4,
 "nbformat_minor": 2
}
