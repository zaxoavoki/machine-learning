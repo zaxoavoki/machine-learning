{
 "cells": [
  {
   "cell_type": "markdown",
   "metadata": {},
   "source": [
    "# Linear (with polynomial) Regression\n",
    "\n",
    "Pros of vectorization:\n",
    "\n",
    " - mode compact equations\n",
    " - faster code execution\n",
    "\n",
    "Used literature: \n",
    " - [Vectorization Implementation in Machine Learning](https://towardsdatascience.com/vectorization-implementation-in-machine-learning-ca652920c55d)\n",
    " - [courses.cs.washington.edu](https://courses.cs.washington.edu/courses/cse446/20wi/Lecture8/08_Regularization.pdf)\n",
    "\n",
    "Import dependencies."
   ]
  },
  {
   "cell_type": "code",
   "execution_count": 1,
   "metadata": {},
   "outputs": [],
   "source": [
    "import numpy as np\n",
    "import pandas as pd\n",
    "import matplotlib.pyplot as plt\n",
    "import random"
   ]
  },
  {
   "cell_type": "markdown",
   "metadata": {},
   "source": [
    "Create fake train and test sets with sinusoidal function."
   ]
  },
  {
   "cell_type": "code",
   "execution_count": 2,
   "metadata": {},
   "outputs": [],
   "source": [
    "def func(x):\n",
    "    return np.sin(x) + np.random.normal(0, 0.5, len(x))"
   ]
  },
  {
   "cell_type": "code",
   "execution_count": 3,
   "metadata": {},
   "outputs": [],
   "source": [
    "X_train = np.arange(0, np.pi * 2, 0.2)\n",
    "Y_train = func(X_train)\n",
    "\n",
    "X_val = np.arange(0, np.pi * 2, 0.3)\n",
    "Y_val = func(X_val)\n",
    "\n",
    "X_test = np.arange(0, np.pi * 2, 0.3)\n",
    "Y_test = func(X_test)"
   ]
  },
  {
   "cell_type": "markdown",
   "metadata": {},
   "source": [
    "Function `plot_model` to splot all certain points."
   ]
  },
  {
   "cell_type": "code",
   "execution_count": 4,
   "metadata": {},
   "outputs": [],
   "source": [
    "def plot_model(X_train, Y_train, X_val = None, Y_val = None, w = None, M = None):\n",
    "    plt.scatter(X_train, Y_train, marker='x', c='blue', s=25)\n",
    "    plt.scatter(X_val, Y_val, marker='x', c='red', s=25)\n",
    "    \n",
    "    if M:\n",
    "        x = np.arange(0, np.pi * 2, 0.1)\n",
    "        y = hypothesis(x, w, M)\n",
    "        plt.plot(x, y, c='red')\n",
    "    \n",
    "    plt.show()"
   ]
  },
  {
   "cell_type": "code",
   "execution_count": 5,
   "metadata": {},
   "outputs": [
    {
     "data": {
      "image/png": "[encoded data removed]",
      "text/plain": [
       "<Figure size 432x288 with 1 Axes>"
      ]
     },
     "metadata": {
      "needs_background": "light"
     },
     "output_type": "display_data"
    }
   ],
   "source": [
    "plot_model(X_train, Y_train, X_val, Y_val)"
   ]
  },
  {
   "cell_type": "markdown",
   "metadata": {},
   "source": [
    "#### Design matrix\n",
    "\n",
    "The design matrix is used in certain statistical models, e.g. the general linear model."
   ]
  },
  {
   "cell_type": "code",
   "execution_count": 6,
   "metadata": {},
   "outputs": [],
   "source": [
    "def design_matrix(X, M):\n",
    "    return np.mat([[i ** p for p in range(M + 1)] for i in X])"
   ]
  },
  {
   "cell_type": "markdown",
   "metadata": {},
   "source": [
    "#### Equation function\n",
    "\n",
    "Use it to get equation points in the future to plot a model."
   ]
  },
  {
   "cell_type": "code",
   "execution_count": 7,
   "metadata": {},
   "outputs": [],
   "source": [
    "def hypothesis(X, w, M):\n",
    "    return design_matrix(X, M) * w"
   ]
  },
  {
   "cell_type": "markdown",
   "metadata": {},
   "source": [
    "#### Error function\n",
    "\n",
    "Use Mean Squared Error to define a total error between predictions and real data."
   ]
  },
  {
   "cell_type": "code",
   "execution_count": 8,
   "metadata": {},
   "outputs": [],
   "source": [
    "def mean_squared_error(X, Y, w, M):\n",
    "    return np.square(np.mat(Y).T - hypothesis(X, w, M)).mean()"
   ]
  },
  {
   "cell_type": "markdown",
   "metadata": {},
   "source": [
    "Main loop with 10k iterations.\n",
    "\n",
    " - l - learning rate.\n",
    " - M - degree of polynomial.\n",
    " - w - parameters of equation."
   ]
  },
  {
   "cell_type": "code",
   "execution_count": 9,
   "metadata": {},
   "outputs": [
    {
     "data": {
      "image/png": "[encoded data removed]",
      "text/plain": [
       "<Figure size 432x288 with 1 Axes>"
      ]
     },
     "metadata": {
      "needs_background": "light"
     },
     "output_type": "display_data"
    },
    {
     "data": {
      "text/plain": [
       "'Best model: M = 7, error = 0.34867332119869565'"
      ]
     },
     "execution_count": 9,
     "metadata": {},
     "output_type": "execute_result"
    }
   ],
   "source": [
    "l = 0.1\n",
    "M = 8\n",
    "\n",
    "models = []\n",
    "for m in range(M + 1):\n",
    "    w = np.ones(M + 1)\n",
    "    \n",
    "    for i in range(1000):\n",
    "        X = design_matrix(X_train, m)\n",
    "        w = np.linalg.inv(X.T @ X) @ X.T @ np.mat(Y_train).T\n",
    "    models.append([w, mean_squared_error(X_val, Y_val, w, m), m])\n",
    "\n",
    "bm = min(models, key=lambda x: x[1])\n",
    "plot_model(X_train, Y_train, X_val, Y_val, bm[0], bm[2])\n",
    "\n",
    "f'Best model: M = {bm[2]}, error = {bm[1]}'"
   ]
  },
  {
   "cell_type": "markdown",
   "metadata": {},
   "source": [
    "## with Regularization\n",
    "\n",
    "Tikhonov-regularized least squares."
   ]
  },
  {
   "cell_type": "code",
   "execution_count": 11,
   "metadata": {},
   "outputs": [
    {
     "data": {
      "image/png": "[encoded data removed]",
      "text/plain": [
       "<Figure size 432x288 with 1 Axes>"
      ]
     },
     "metadata": {
      "needs_background": "light"
     },
     "output_type": "display_data"
    },
    {
     "data": {
      "text/plain": [
       "'Best model: M = 8, error = 0.229435365925952, lambda = 10'"
      ]
     },
     "execution_count": 11,
     "metadata": {},
     "output_type": "execute_result"
    }
   ],
   "source": [
    "l = 0.1\n",
    "M = 8\n",
    "lmbd = [0.001, 0.003, 0.01, 0.03, 0.1, 0.3, 1, 3, 10]\n",
    "\n",
    "models = []\n",
    "for lambda_ in lmbd:\n",
    "    for m in range(M + 1):\n",
    "        w = np.ones(M + 1)\n",
    "\n",
    "        for i in range(1000):\n",
    "            X = design_matrix(X_train, m)\n",
    "            w = np.linalg.inv(X.T @ X + lambda_ * np.identity(m + 1)) @ X.T @ np.mat(Y_train).T\n",
    "        models.append([w, mean_squared_error(X_val, Y_val, w, m), m, lambda_])\n",
    "\n",
    "bm = min(models, key=lambda x: x[1])\n",
    "plot_model(X_train, Y_train, X_val, Y_val, bm[0], bm[2])\n",
    "\n",
    "f'Best model: M = {bm[2]}, error = {bm[1]}, lambda = {bm[3]}'"
   ]
  },
  {
   "cell_type": "code",
   "execution_count": null,
   "metadata": {},
   "outputs": [],
   "source": []
  }
 ],
 "metadata": {
  "kernelspec": {
   "display_name": "Python 3",
   "language": "python",
   "name": "python3"
  },
  "language_info": {
   "codemirror_mode": {
    "name": "ipython",
    "version": 3
   },
   "file_extension": ".py",
   "mimetype": "text/x-python",
   "name": "python",
   "nbconvert_exporter": "python",
   "pygments_lexer": "ipython3",
   "version": "3.7.7"
  }
 },
 "nbformat": 4,
 "nbformat_minor": 4
}
