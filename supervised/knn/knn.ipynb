{
 "cells": [
  {
   "cell_type": "markdown",
   "metadata": {},
   "source": [
    "# K-NN algorithm\n",
    "\n",
    "#### How it works? \n",
    "\n",
    "Main idea of this algorithm is to find K nearest neighbors to the tested dot. Distance between neighbors we can calculate using [Euclidean Distance](https://en.wikipedia.org/wiki/Euclidean_distance) or using other formulas which uses another metricies.\n",
    "\n",
    "#### Dataset example\n",
    "\n",
    "In this project I am using [iris dataset.](https://archive.ics.uci.edu/ml/datasets/iris)\n",
    "\n",
    "Import all dependencies."
   ]
  },
  {
   "cell_type": "code",
   "execution_count": 308,
   "metadata": {},
   "outputs": [],
   "source": [
    "import pandas as pd\n",
    "import numpy as np\n",
    "import math\n",
    "import matplotlib.pyplot as plt\n",
    "import random"
   ]
  },
  {
   "cell_type": "markdown",
   "metadata": {},
   "source": [
    "Read data from CSV file via filename."
   ]
  },
  {
   "cell_type": "code",
   "execution_count": 309,
   "metadata": {},
   "outputs": [],
   "source": [
    "def get_data(filename):\n",
    "    return pd.read_csv(filename).values"
   ]
  },
  {
   "cell_type": "markdown",
   "metadata": {},
   "source": [
    "Plot all points on two axises. Uses three different colors for each class of iris flower."
   ]
  },
  {
   "cell_type": "code",
   "execution_count": 310,
   "metadata": {},
   "outputs": [],
   "source": [
    "def draw(X, Y):\n",
    "    plt.scatter(list(map(lambda x: x[0], X)), Y, c=list(map(lambda x: 'blue' if x == 'Iris-virginica' else 'red' if x == 'Iris-versicolor' else 'green', Y)), marker='x')\n",
    "    plt.show()"
   ]
  },
  {
   "cell_type": "markdown",
   "metadata": {},
   "source": [
    "Measure distance between two points using Euclidean distance formula.  \n",
    "Another function `get_neighbors` returns top K nearest points (neighbors)."
   ]
  },
  {
   "cell_type": "code",
   "execution_count": 311,
   "metadata": {},
   "outputs": [],
   "source": [
    "def euclidean_distance(x1, x2):\n",
    "    return np.sqrt(np.sum((np.array(x1) - np.array(x2)) ** 2))\n",
    "\n",
    "def get_neighbors(point, data, k):\n",
    "    n = [[unit, euclidean_distance(point[:-1], unit[:-1])] for unit in data]\n",
    "    return sorted(n, key=lambda x: x[1])[:k]"
   ]
  },
  {
   "cell_type": "markdown",
   "metadata": {},
   "source": [
    "For each unit in data set we test for correction.  \n",
    "It's difficult to draw a 4-dimensional graph that's why I'm using only sepal length in cm."
   ]
  },
  {
   "cell_type": "code",
   "execution_count": 313,
   "metadata": {},
   "outputs": [
    {
     "data": {
      "image/png": "[encoded data removed]",
      "text/plain": [
       "<Figure size 432x288 with 1 Axes>"
      ]
     },
     "metadata": {
      "needs_background": "light"
     },
     "output_type": "display_data"
    },
    {
     "data": {
      "text/plain": [
       "'Accuracy 100.0%'"
      ]
     },
     "execution_count": 313,
     "metadata": {},
     "output_type": "execute_result"
    }
   ],
   "source": [
    "K = 2\n",
    "\n",
    "data = get_data('iris.csv')\n",
    "\n",
    "X = list(map(lambda x: x[:4], data))\n",
    "Y = list(map(lambda x: x[4], data))\n",
    "\n",
    "Xtest = list(map(lambda x: x[:4], data))\n",
    "Ytest = list(map(lambda x: x[4], data))\n",
    "\n",
    "res = 0\n",
    "for unit in data:\n",
    "    n = get_neighbors(unit, data, K)\n",
    "    n = max(map(lambda x: x[0][4], n)), key=n.count)\n",
    "    res += 1 if n == unit[4] else 0\n",
    "\n",
    "draw(X, Y)\n",
    "    \n",
    "f'Accuracy {res / len(data) * 100}%'"
   ]
  },
  {
   "cell_type": "code",
   "execution_count": null,
   "metadata": {},
   "outputs": [],
   "source": []
  }
 ],
 "metadata": {
  "kernelspec": {
   "display_name": "Python 3.7.7 64-bit",
   "language": "python",
   "name": "python37764bit38450ece193449ef8929acd7eff9471c"
  },
  "language_info": {
   "codemirror_mode": {
    "name": "ipython",
    "version": 3
   },
   "file_extension": ".py",
   "mimetype": "text/x-python",
   "name": "python",
   "nbconvert_exporter": "python",
   "pygments_lexer": "ipython3",
   "version": "3.7.7"
  },
  "pycharm": {
   "stem_cell": {
    "cell_type": "raw",
    "metadata": {
     "collapsed": false
    },
    "source": []
   }
  }
 },
 "nbformat": 4,
 "nbformat_minor": 2
}
