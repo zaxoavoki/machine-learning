{
 "cells": [
  {
   "cell_type": "markdown",
   "metadata": {},
   "source": [
    "# Simple Logistic Regression\n",
    "\n",
    "Logistic Regression can be used for binary classification or multi-class classification. Our main goal is to change parameters w and b to reduce the loss function (make it as small as possible).\n",
    "\n",
    "Used literature:\n",
    "    - [Loss Function (Part II): Logistic Regression](https://towardsdatascience.com/optimization-loss-function-under-the-hood-part-ii-d20a239cde11)"
   ]
  },
  {
   "cell_type": "code",
   "execution_count": 1,
   "metadata": {},
   "outputs": [],
   "source": [
    "import random\n",
    "import numpy as np\n",
    "import pandas as pd\n",
    "import matplotlib.pyplot as plt"
   ]
  },
  {
   "cell_type": "markdown",
   "metadata": {},
   "source": [
    "Read data function. I use example dataset from Wikipedia."
   ]
  },
  {
   "cell_type": "code",
   "execution_count": 2,
   "metadata": {},
   "outputs": [],
   "source": [
    "def read_data(filename):\n",
    "    return pd.read_csv(filename)"
   ]
  },
  {
   "cell_type": "markdown",
   "metadata": {},
   "source": [
    "Sigmoid function to convert continuos variable to value between 0 and 1."
   ]
  },
  {
   "cell_type": "code",
   "execution_count": 3,
   "metadata": {},
   "outputs": [],
   "source": [
    "def sigmoid(x):\n",
    "    return 1 / (1 + np.exp(-x))"
   ]
  },
  {
   "cell_type": "markdown",
   "metadata": {},
   "source": [
    "Plot model function."
   ]
  },
  {
   "cell_type": "code",
   "execution_count": 4,
   "metadata": {},
   "outputs": [],
   "source": [
    "def plot_model(X_train, Y_train, w, b, X_test = [], Y_test = []):\n",
    "    x = np.arange(0, 6, 0.1)\n",
    "    y = sigmoid(w * x + b)\n",
    "    \n",
    "    if len(X_test) > 0:\n",
    "        plt.scatter(X_test, Y_test, c=list(map(lambda x: 'red' if x == 0 else 'blue', Y_test)))\n",
    "        \n",
    "    plt.scatter(X_train, Y_train, c=list(map(lambda x: 'red' if x == 0 else 'blue', Y_train)))\n",
    "    plt.plot(x, y)\n",
    "    plt.show()"
   ]
  },
  {
   "cell_type": "markdown",
   "metadata": {},
   "source": [
    "Initialize parameters w, b and learning rate. Read data from `dataset.csv` file."
   ]
  },
  {
   "cell_type": "code",
   "execution_count": 5,
   "metadata": {},
   "outputs": [],
   "source": [
    "w = 0.1\n",
    "b = 0\n",
    "l = 0.1\n",
    "\n",
    "dt = read_data('dataset.csv')\n",
    "ci = int(len(dt) * 0.8)\n",
    "\n",
    "X_train = dt.iloc[:ci]['Hours']\n",
    "Y_train = dt.iloc[:ci]['Passed']\n",
    "\n",
    "X_test = dt.iloc[ci:]['Hours']\n",
    "Y_test = dt.iloc[ci:]['Passed']"
   ]
  },
  {
   "cell_type": "markdown",
   "metadata": {},
   "source": [
    "Iterate n-times to train our model. Update parameters and then plot the model."
   ]
  },
  {
   "cell_type": "code",
   "execution_count": 6,
   "metadata": {},
   "outputs": [
    {
     "data": {
      "image/png": "[encoded data removed]",
      "text/plain": [
       "<Figure size 432x288 with 1 Axes>"
      ]
     },
     "metadata": {
      "needs_background": "light"
     },
     "output_type": "display_data"
    }
   ],
   "source": [
    "for i in range(10000):\n",
    "    z = X_train * w + b\n",
    "    a = sigmoid(z)\n",
    "    \n",
    "    dz = a - Y_train\n",
    "    dw = 1 / len(X_train) * np.sum(X_train * dz)\n",
    "    db = 1 / len(X_train) * np.sum(dz)\n",
    "    \n",
    "    w -= l * dw\n",
    "    b -= l * db\n",
    "\n",
    "plot_model(X_train, Y_train, w, b, X_test, Y_test)"
   ]
  },
  {
   "cell_type": "markdown",
   "metadata": {},
   "source": [
    "Counting total error on test set."
   ]
  },
  {
   "cell_type": "code",
   "execution_count": 7,
   "metadata": {},
   "outputs": [
    {
     "data": {
      "text/plain": [
       "'Total errors: 3.0'"
      ]
     },
     "execution_count": 7,
     "metadata": {},
     "output_type": "execute_result"
    }
   ],
   "source": [
    "f'Total errors: {sum(abs(round(sigmoid(X_test * w + b), 0) - Y_test))}'"
   ]
  }
 ],
 "metadata": {
  "kernelspec": {
   "display_name": "Python 3.7.7 64-bit",
   "language": "python",
   "name": "python37764bit38450ece193449ef8929acd7eff9471c"
  },
  "language_info": {
   "codemirror_mode": {
    "name": "ipython",
    "version": 3
   },
   "file_extension": ".py",
   "mimetype": "text/x-python",
   "name": "python",
   "nbconvert_exporter": "python",
   "pygments_lexer": "ipython3",
   "version": "3.7.7"
  }
 },
 "nbformat": 4,
 "nbformat_minor": 4
}
